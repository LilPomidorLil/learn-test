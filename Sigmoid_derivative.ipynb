{
 "cells": [
  {
   "cell_type": "markdown",
   "id": "a19688db",
   "metadata": {},
   "source": [
    "# Сигмоидная функция активации\n",
    "\n",
    "![Сигмоидная функция активации](img/sigmoid.png)"
   ]
  },
  {
   "cell_type": "markdown",
   "id": "b30fb3ea",
   "metadata": {},
   "source": [
    "Функция объявляется так:\n",
    "\n",
    "$$\n",
    "y = sigmoid(x) = f(x) = \\frac{1}{1 + e^{-x}}\n",
    "$$"
   ]
  },
  {
   "cell_type": "markdown",
   "id": "a091d986",
   "metadata": {},
   "source": [
    "Производная сигмоиды ищется очень легко\n",
    "\n",
    "$$\n",
    "\\frac {dy}{dx} = f^\\prime(x) = \\frac {d(\\frac{1}{1 + e^{-x}})}{dx}\n",
    "$$\n",
    "\n",
    "$$\n",
    "\\Rightarrow f^\\prime(x) = -1(1 + e^{-x})^{-2}(-e^{-x})\n",
    "$$\n",
    "\n",
    "$$\n",
    "\\Rightarrow f^\\prime(x) = e^{-x}(1 + e^{-x})^{-2}\n",
    "$$"
   ]
  },
  {
   "cell_type": "markdown",
   "id": "daa6c57b",
   "metadata": {},
   "source": [
    "Продолжая преобразования, получим:\n",
    "\n",
    "$$\n",
    "f^\\prime(x) = \\frac{e^{-x}}{(1 + e^{-x})^{2}}\n",
    "$$\n",
    "\n",
    "$$\n",
    "\\Rightarrow f^\\prime(x) = \\frac{1}{(1 + e^{-x})} \\frac{e^{-x}}{(1 + e^{-x})}\n",
    "$$\n",
    "\n",
    "$$\n",
    "\\Rightarrow f^\\prime(x) = \\frac{1}{(1 + e^{-x})} \\frac{1 + e^{-x} - 1}{(1 + e^{-x})}\n",
    "$$\n",
    "\n",
    "$$\n",
    "\\Rightarrow f^\\prime(x) = \\frac{1}{(1 + e^{-x})} \\big( 1 - \\frac{1}{(1 + e^{-x})} \\big)\n",
    "$$\n",
    "\n",
    "$$\n",
    "\\Rightarrow f^\\prime(x) = sigmoid(x) (1 - sigmoid(x))\n",
    "$$\n",
    "\n",
    "__Осталось все запрограммировать__"
   ]
  },
  {
   "cell_type": "code",
   "execution_count": 3,
   "id": "90bf6184",
   "metadata": {},
   "outputs": [],
   "source": [
    "import numpy as np\n",
    "import matplotlib.pyplot as plt"
   ]
  },
  {
   "cell_type": "code",
   "execution_count": 4,
   "id": "b86b640b",
   "metadata": {},
   "outputs": [],
   "source": [
    "def sigmoid(x):\n",
    "    return 1 / (1 + np.exp(-x))"
   ]
  },
  {
   "cell_type": "code",
   "execution_count": 6,
   "id": "886f2d85",
   "metadata": {},
   "outputs": [
    {
     "data": {
      "text/plain": [
       "array([[0],\n",
       "       [8],\n",
       "       [0],\n",
       "       [4],\n",
       "       [3]])"
      ]
     },
     "execution_count": 6,
     "metadata": {},
     "output_type": "execute_result"
    }
   ],
   "source": [
    "x = np.random.randint(0, 10, size = (5, 1))\n",
    "x"
   ]
  },
  {
   "cell_type": "code",
   "execution_count": 7,
   "id": "1e30ea92",
   "metadata": {},
   "outputs": [],
   "source": [
    "def sigmoid_der(x):\n",
    "    return sigmoid(x) * (1 - sigmoid(x))"
   ]
  },
  {
   "cell_type": "code",
   "execution_count": 9,
   "id": "e0ca48ab",
   "metadata": {},
   "outputs": [
    {
     "data": {
      "text/plain": [
       "array([[0.5       ],\n",
       "       [0.99966465],\n",
       "       [0.5       ],\n",
       "       [0.98201379],\n",
       "       [0.95257413]])"
      ]
     },
     "execution_count": 9,
     "metadata": {},
     "output_type": "execute_result"
    }
   ],
   "source": [
    "sigmoid(x)"
   ]
  },
  {
   "cell_type": "code",
   "execution_count": 8,
   "id": "51e41e99",
   "metadata": {},
   "outputs": [
    {
     "data": {
      "text/plain": [
       "array([[0.25      ],\n",
       "       [0.00033524],\n",
       "       [0.25      ],\n",
       "       [0.01766271],\n",
       "       [0.04517666]])"
      ]
     },
     "execution_count": 8,
     "metadata": {},
     "output_type": "execute_result"
    }
   ],
   "source": [
    "sigmoid_der(x)"
   ]
  },
  {
   "cell_type": "markdown",
   "id": "92163b93",
   "metadata": {},
   "source": [
    "Теперь изобразим на графике полученный результат"
   ]
  },
  {
   "cell_type": "code",
   "execution_count": 13,
   "id": "de121d96",
   "metadata": {},
   "outputs": [
    {
     "data": {
      "image/png": "[encoded data removed]",
      "text/plain": [
       "<Figure size 432x288 with 1 Axes>"
      ]
     },
     "metadata": {
      "needs_background": "light"
     },
     "output_type": "display_data"
    }
   ],
   "source": [
    "x = np.linspace(-10, 10, 100)\n",
    "y = sigmoid(x)\n",
    "plt.plot(x, y);\n",
    "plt.title(\"Sigmoid Activation Function\")\n",
    "plt.xlabel(\"X\");\n",
    "plt.ylabel(\"Y\");"
   ]
  },
  {
   "cell_type": "code",
   "execution_count": 14,
   "id": "b42061d0",
   "metadata": {},
   "outputs": [
    {
     "data": {
      "image/png": "[encoded data removed]",
      "text/plain": [
       "<Figure size 432x288 with 1 Axes>"
      ]
     },
     "metadata": {
      "needs_background": "light"
     },
     "output_type": "display_data"
    }
   ],
   "source": [
    "x = np.linspace(-10, 10, 100)\n",
    "y = sigmoid_der(x)\n",
    "plt.plot(x, y);\n",
    "plt.title(\"Sigmoid Derivative Activation Function\")\n",
    "plt.xlabel(\"X\");\n",
    "plt.ylabel(\"Y\");"
   ]
  }
 ],
 "metadata": {
  "kernelspec": {
   "display_name": "Python 3",
   "language": "python",
   "name": "python3"
  },
  "language_info": {
   "codemirror_mode": {
    "name": "ipython",
    "version": 3
   },
   "file_extension": ".py",
   "mimetype": "text/x-python",
   "name": "python",
   "nbconvert_exporter": "python",
   "pygments_lexer": "ipython3",
   "version": "3.8.8"
  },
  "toc": {
   "base_numbering": 1,
   "nav_menu": {},
   "number_sections": true,
   "sideBar": true,
   "skip_h1_title": false,
   "title_cell": "Table of Contents",
   "title_sidebar": "Contents",
   "toc_cell": false,
   "toc_position": {},
   "toc_section_display": true,
   "toc_window_display": false
  }
 },
 "nbformat": 4,
 "nbformat_minor": 5
}
