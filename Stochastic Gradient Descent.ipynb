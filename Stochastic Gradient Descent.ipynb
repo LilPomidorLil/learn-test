{
 "cells": [
  {
   "cell_type": "markdown",
   "id": "f3036664",
   "metadata": {},
   "source": [
    "# Градиентный спуск. Повторение и визуализация."
   ]
  },
  {
   "cell_type": "markdown",
   "id": "dc865692",
   "metadata": {},
   "source": [
    "Предположим, что у нас есть функция:\n",
    "\n",
    "$$\n",
    "y = f(x) = x - x^3\n",
    "$$\n",
    "\n",
    "... и мы хотим найти ее минимум."
   ]
  },
  {
   "cell_type": "markdown",
   "id": "04abaf32",
   "metadata": {},
   "source": [
    "Он ищется довольно просто через взятие двойной производной.\n",
    "\n",
    "$$\n",
    "\\frac{dy}{dx} = f^\\prime(x) = 1 - 3x^2\n",
    "$$\n",
    "\n",
    "Приравниваем к нулю и получаем, что -> \n",
    "\n",
    "$$\n",
    "x_1 = \\frac{1}{\\sqrt{3}}\n",
    "$$\n",
    "\n",
    "$$\n",
    "x_2 = -\\frac{1}{\\sqrt{3}}\n",
    "$$\n",
    "\n",
    "Для того, чтобы какое то из этих значений являлось локальным минимумом, 2 производная должна быть положительна в этой точке.\n",
    "\n",
    "$$\n",
    "\\frac{d^2y}{dx^2} = f^{\\prime\\prime}(x) = -6x\n",
    "$$\n",
    "\n",
    "Очевидно, что __минимум__ находится в точке \n",
    "\n",
    "$$\n",
    "x_2 = -\\frac{1}{\\sqrt{3}}\n",
    "$$\n",
    "\n",
    "__Максимум__ в точке:\n",
    "\n",
    "$$\n",
    "x_1 = \\frac{1}{\\sqrt{3}}\n",
    "$$"
   ]
  },
  {
   "cell_type": "markdown",
   "id": "fd111b85",
   "metadata": {},
   "source": [
    "---------------------------------\n",
    "\n",
    "**Изобразим эту функцию**"
   ]
  },
  {
   "cell_type": "code",
   "execution_count": 1,
   "id": "29b1a39b",
   "metadata": {},
   "outputs": [],
   "source": [
    "import matplotlib.pyplot as plt\n",
    "import numpy as np"
   ]
  },
  {
   "cell_type": "code",
   "execution_count": 24,
   "id": "0a58483e",
   "metadata": {},
   "outputs": [],
   "source": [
    "def func(x):\n",
    "    return x - x**3\n",
    "\n",
    "def func_der(x):\n",
    "    return 1 - 3 * (x ** 2)"
   ]
  },
  {
   "cell_type": "code",
   "execution_count": 21,
   "id": "ec56d0ac",
   "metadata": {},
   "outputs": [
    {
     "data": {
      "image/png": "[encoded data removed]",
      "text/plain": [
       "<Figure size 504x504 with 1 Axes>"
      ]
     },
     "metadata": {
      "needs_background": "light"
     },
     "output_type": "display_data"
    }
   ],
   "source": [
    "x = np.linspace(-2, 2, 1000)\n",
    "y = func(x)\n",
    "\n",
    "fig, ax = plt.subplots(figsize=(7, 7))\n",
    "\n",
    "min_ = -(1)/(3 ** 0.5)\n",
    "max_ = (1)/(3 ** 0.5)\n",
    "\n",
    "plt.plot(x, y)\n",
    "plt.plot(min_, func(min_), 'ro', label = \"Local minimum f(x)\")\n",
    "plt.plot(max_, func(max_), 'go', label = \"Local maximum f(x)\")\n",
    "plt.grid()\n",
    "plt.xlabel(\"X\")\n",
    "plt.ylabel(\"Y\")\n",
    "plt.title(\"Min & Max f(x)\")\n",
    "plt.legend();"
   ]
  },
  {
   "cell_type": "markdown",
   "id": "0e4b60e0",
   "metadata": {},
   "source": [
    "Теперь нужно найти этот локальный минимум на языке компьютера. \n",
    "\n",
    "В задачах статистического и машинного обучения функция зависимости нам не дана, поэтому метод градиентного спуска (а также все его разновидности) оптимален.\n",
    "\n",
    "__Алгоритм такой:__\n",
    "\n",
    "> Устанавливаем начальную точку, с которой мы будем стартовать, а также длину шага, с которой будем изменять текущее положение.\n",
    "\n",
    "> Начинаем цикл:\n",
    "\n",
    ">> 1. Обновляем позицию через подсчет производной и шага\n",
    ">> 2. Добавляем к исходной точке наше продвижение по градиенту.\n"
   ]
  },
  {
   "cell_type": "code",
   "execution_count": 35,
   "id": "dc7076c2",
   "metadata": {},
   "outputs": [
    {
     "name": "stdout",
     "output_type": "stream",
     "text": [
      "Локальный минимум f(x) is : -0.5773502691896273\n"
     ]
    }
   ],
   "source": [
    "point = -1\n",
    "lr = 0.01\n",
    "\n",
    "for i in range(1000):\n",
    "    update = -lr * func_der(point) # минус потому что антиградиент\n",
    "    point += update\n",
    "\n",
    "# более короткая и правильная запись\n",
    "\n",
    "# for i in range(1000):               \n",
    "#     point -= lr * func_der(point)\n",
    "\n",
    "print(f\"Локальный минимум f(x) is : {point}\")"
   ]
  },
  {
   "cell_type": "markdown",
   "id": "e110fe61",
   "metadata": {},
   "source": [
    "## Попробуем заанимировать процесс нахождения минимума, используя алгоритм градиентного спуска.\n",
    "\n",
    "На каждой итерации будем добавлять в список текущее значение точки, в которой мы находимся."
   ]
  },
  {
   "cell_type": "code",
   "execution_count": 85,
   "id": "6b19c93e",
   "metadata": {},
   "outputs": [],
   "source": [
    "import matplotlib.animation as animation\n",
    "from matplotlib.animation import PillowWriter"
   ]
  },
  {
   "cell_type": "code",
   "execution_count": 86,
   "id": "60e1f006",
   "metadata": {},
   "outputs": [],
   "source": [
    "sgd_points = [-1.8]"
   ]
  },
  {
   "cell_type": "code",
   "execution_count": 87,
   "id": "4788316d",
   "metadata": {},
   "outputs": [],
   "source": [
    "point = -1.8\n",
    "lr = 0.01\n",
    "\n",
    "for i in range(1000):               \n",
    "    point -= lr * func_der(point)\n",
    "    sgd_points.append(point)"
   ]
  },
  {
   "cell_type": "markdown",
   "id": "d535e087",
   "metadata": {},
   "source": [
    "<br>                                          "
   ]
  },
  {
   "cell_type": "markdown",
   "id": "52805fb5",
   "metadata": {},
   "source": [
    "__Приступим к построению анимации__"
   ]
  },
  {
   "cell_type": "code",
   "execution_count": 88,
   "id": "e434fbc1",
   "metadata": {},
   "outputs": [],
   "source": [
    "plt.rcParams.update({'font.size': 22})"
   ]
  },
  {
   "cell_type": "code",
   "execution_count": 89,
   "id": "0f3b1f38",
   "metadata": {},
   "outputs": [
    {
     "data": {
      "image/png": "[encoded data removed]",
      "text/plain": [
       "<Figure size 1920x1080 with 1 Axes>"
      ]
     },
     "metadata": {
      "needs_background": "light"
     },
     "output_type": "display_data"
    }
   ],
   "source": [
    "fig = plt.figure(dpi = 100)\n",
    "\n",
    "fig.set_figheight(10.80)\n",
    "fig.set_figwidth(19.20)\n",
    "\n",
    "x_ = np.linspace(-5, 5, 10000)\n",
    "y_ = func(x_)\n",
    "\n",
    "ax = plt.axes()\n",
    "ax.plot(x_, y_)\n",
    "ax.grid(alpha = 0.5)\n",
    "ax.set_xlim(-5, 5)\n",
    "ax.set_ylim(-5, 5)\n",
    "ax.set_xlabel('x')\n",
    "ax.set_ylabel('y', rotation = 0)\n",
    "ax.scatter(-1, func(-1), color = 'red')\n",
    "ax.hlines(func(-0.5773502691896256), -5, 5, linestyles = 'dashed', alpha = 0.5)\n",
    "\n",
    "ax.set_title('SGD, learning_rate = 0.01');"
   ]
  },
  {
   "cell_type": "code",
   "execution_count": 90,
   "id": "79055a28",
   "metadata": {},
   "outputs": [],
   "source": [
    "## функция покадровой отрисовки графика и точки\n",
    "def animate(i):\n",
    "    ax.clear()\n",
    "    ax.plot(x_, y_)\n",
    "    ax.grid(alpha = 0.5)\n",
    "    ax.set_xlim(-5, 5)\n",
    "    ax.set_ylim(-5, 5)\n",
    "    ax.set_xlabel('x')\n",
    "    ax.set_ylabel('y', rotation = 0)\n",
    "    ax.hlines(func(-0.5773502691896256), -5, 5, linestyles = 'dashed', alpha = 0.5)\n",
    "    ax.set_title('SGD, learning_rate = 0.01')\n",
    "    \n",
    "    ax.scatter(sgd_points[i], func(sgd_points[i]), color = 'red')"
   ]
  },
  {
   "cell_type": "code",
   "execution_count": 91,
   "id": "0fcdfd85",
   "metadata": {},
   "outputs": [
    {
     "name": "stderr",
     "output_type": "stream",
     "text": [
      "MovieWriter ffmpeg unavailable; using Pillow instead.\n"
     ]
    }
   ],
   "source": [
    "anim = animation.FuncAnimation(fig, animate, frames = 200, interval = 20)\n",
    "\n",
    "anim.save(\"StochasticGradientDescents.gif\")"
   ]
  },
  {
   "cell_type": "markdown",
   "id": "4c8884ee",
   "metadata": {},
   "source": [
    "<br>"
   ]
  },
  {
   "cell_type": "markdown",
   "id": "dace9311",
   "metadata": {},
   "source": [
    "<br>"
   ]
  },
  {
   "cell_type": "markdown",
   "id": "dfb731c5",
   "metadata": {},
   "source": [
    "**Вот что получилось**"
   ]
  },
  {
   "cell_type": "markdown",
   "id": "8002c7ed",
   "metadata": {},
   "source": [
    "![SGD](img/StochasticGradientDescents.gif \"segment\")"
   ]
  },
  {
   "cell_type": "markdown",
   "id": "521721bf",
   "metadata": {},
   "source": [
    "<br>"
   ]
  },
  {
   "cell_type": "markdown",
   "id": "d0c81e21",
   "metadata": {},
   "source": [
    "<br>"
   ]
  }
 ],
 "metadata": {
  "kernelspec": {
   "display_name": "Python 3",
   "language": "python",
   "name": "python3"
  },
  "language_info": {
   "codemirror_mode": {
    "name": "ipython",
    "version": 3
   },
   "file_extension": ".py",
   "mimetype": "text/x-python",
   "name": "python",
   "nbconvert_exporter": "python",
   "pygments_lexer": "ipython3",
   "version": "3.8.8"
  },
  "toc": {
   "base_numbering": 1,
   "nav_menu": {},
   "number_sections": true,
   "sideBar": true,
   "skip_h1_title": false,
   "title_cell": "Table of Contents",
   "title_sidebar": "Contents",
   "toc_cell": false,
   "toc_position": {},
   "toc_section_display": true,
   "toc_window_display": false
  }
 },
 "nbformat": 4,
 "nbformat_minor": 5
}
